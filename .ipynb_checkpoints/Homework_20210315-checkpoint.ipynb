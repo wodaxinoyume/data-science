{
 "cells": [
  {
   "cell_type": "markdown",
   "metadata": {},
   "source": [
    "## Homework_2021_03_15\n",
    "   <font color=ff0000> 截止日期：3.18（周四）中午12点，如果课余时间比较充裕的话最好能在周二晚上提交</font>\n",
    "\n",
    "### 第一部分：基础练习\n",
    "\n",
    "#### 1.1 请完成代码，实现输入任意多个空格分隔的浮点数，并打印输出这些浮点数的和\n",
    "\n",
    "\n",
    "参考：\n",
    "```\n",
    "a, b = map(int, input('输入空格分隔的两个数：').split())\n",
    "print(a + b)\n",
    "```\n",
    "提示：同时赋值两个变量的这个语法叫 Tuple Unpacking\n",
    "\n",
    "\n"
   ]
  },
  {
   "cell_type": "code",
   "execution_count": 1,
   "metadata": {},
   "outputs": [
    {
     "name": "stdout",
     "output_type": "stream",
     "text": [
      "Test passed!\n"
     ]
    }
   ],
   "source": [
    "def do_sum(inp):\n",
    "    #TODO\n",
    "    s=0\n",
    "    lst=map(float,inp.split())\n",
    "    for i in lst:\n",
    "        s+=i\n",
    "    return s\n",
    "\n",
    "# 下面的语句用来检验 do_sum 的正确性\n",
    "assert do_sum('1 2') == 3\n",
    "assert do_sum('1 2 3 4.6 5 -1.1') == 14.5\n",
    "assert do_sum('-123') == -123\n",
    "print('Test passed!')"
   ]
  },
  {
   "cell_type": "markdown",
   "metadata": {},
   "source": [
    "#### 1.2 定义一个函数func(radius)：radius为一组圆的半径[2, 3, 5, 7, 9]，函数func返回一个dict，其中key为半径，value为圆的面积（Pi取3.14）"
   ]
  },
  {
   "cell_type": "code",
   "execution_count": 2,
   "metadata": {},
   "outputs": [
    {
     "name": "stdout",
     "output_type": "stream",
     "text": [
      "{2: 12.56, 3: 28.26, 5: 78.5, 7: 153.86, 9: 254.34}\n"
     ]
    }
   ],
   "source": [
    "def func(radius):\n",
    "    #TODO\n",
    "    return {i:3.14*i**2 for i in radius}\n",
    "print (func([2, 3, 5, 7, 9]))"
   ]
  },
  {
   "cell_type": "markdown",
   "metadata": {},
   "source": [
    "#### 1.3 递归函数\n",
    "以方程：$x^3-0.2x^2-0.2x-1.2=0$为例，根据牛顿迭代法编写程序，求该方程的根，精度为0.00000001（该方程只有一个根）\n",
    "\n",
    "提示：牛顿迭代法——设方程$f(x)=0$的根为$r$，取$x_0$作为$r$的初始近似值，过点($x_0$, $f(x_0)$)作$f(x)$的切线，与x轴交点的横坐标为$x_1=x_0-\\frac{f(x_0)}{f'(x_0)}$，$x_1$称为$r$的一次近似值。再过点$(x_1,f(x_1)$作切线，继续迭代……\n",
    "$x_{n+1}=x_n-\\frac{f(x_n)}{f'(x_n)}$"
   ]
  },
  {
   "cell_type": "code",
   "execution_count": 3,
   "metadata": {},
   "outputs": [
    {
     "name": "stdout",
     "output_type": "stream",
     "text": [
      "123123123\n",
      "1.2\n"
     ]
    }
   ],
   "source": [
    "guess=float(input())\n",
    "def solution(n):\n",
    "    m=n-(n**3-0.2*n**2-0.2*n-1.2)/(3*n**2-0.4*n-0.2)\n",
    "    if abs(m-n)<0.00000001:\n",
    "        return m;\n",
    "    else:\n",
    "        return solution(m)\n",
    "print(solution(guess))"
   ]
  },
  {
   "cell_type": "markdown",
   "metadata": {},
   "source": [
    "#### 1.4 设计一个decorator，能够将一个加法等式包裹在两层html标签\\<body>\\</body>和\\<p>\\</p>之中\n",
    "示例：输入5和6，\n",
    "输出\n",
    "\\<body>\n",
    "\\<p>\n",
    "5 + 6 = 11\n",
    "\\</p>\n",
    "\\</body>"
   ]
  },
  {
   "cell_type": "code",
   "execution_count": 4,
   "metadata": {},
   "outputs": [
    {
     "name": "stdout",
     "output_type": "stream",
     "text": [
      "123123123\n",
      "1231231213123\n",
      "<body><p>123123123 + 1231231213123 = 1231354336246</p></body>"
     ]
    }
   ],
   "source": [
    "#TODO\n",
    "def tag(func):\n",
    "    def inner(*args):\n",
    "        print(\"<body><p>\",end='')\n",
    "        func(*args)\n",
    "        print(\"</p></body>\",end='')\n",
    "    return inner\n",
    "\n",
    "@tag\n",
    "def sum(a, b):\n",
    "    print(\"{} + {} = {}\".format(a, b, a + b),end='')\n",
    "\n",
    "a = int(input())\n",
    "b = int(input())\n",
    "sum(a, b)"
   ]
  },
  {
   "cell_type": "markdown",
   "metadata": {},
   "source": [
    "#### 1.5 用匿名函数改造下面的代码（Lambda表达式）"
   ]
  },
  {
   "cell_type": "code",
   "execution_count": 26,
   "metadata": {},
   "outputs": [],
   "source": [
    "def is_odd(n):\n",
    "    return n % 2 == 1\n",
    "\n",
    "L = list(filter(is_odd, range(1, 20)))"
   ]
  },
  {
   "cell_type": "code",
   "execution_count": 34,
   "metadata": {},
   "outputs": [
    {
     "name": "stdout",
     "output_type": "stream",
     "text": [
      "[1, 3, 5, 7, 9, 11, 13, 15, 17, 19]\n"
     ]
    }
   ],
   "source": [
    "#TODO\n",
    "L = list(filter(lambda x : x % 2 == 1, range(1, 20)))\n",
    "\n",
    "print(L)"
   ]
  },
  {
   "cell_type": "markdown",
   "metadata": {},
   "source": [
    "### 第二部分：进阶练习"
   ]
  },
  {
   "cell_type": "markdown",
   "metadata": {},
   "source": [
    "#### 2.1 从开发的代码库中得到一组数据，表示每个文件的代码变更情况\n",
    "\n",
    "    data = {'login.py': 'a 8 d 2 u 3', 'order.py': 'a 15 d 0 u 34', 'info.py': 'a 1 d 20 u 5'}\n",
    "\n",
    "其中 a表示新增行数，d表示删除行数，u表示修改行数。login.py的变更行数为13\n",
    "\n",
    "要求：统计出每个文件的变更行数(提示：通过try方法)"
   ]
  },
  {
   "cell_type": "code",
   "execution_count": 51,
   "metadata": {},
   "outputs": [
    {
     "name": "stdout",
     "output_type": "stream",
     "text": [
      "{'login.py': 13, 'order.py': 49, 'info.py': 26}\n"
     ]
    }
   ],
   "source": [
    "data = {'login.py': 'a 8 d 2 u 3', 'order.py': 'a 15 d 0 u 34', 'info.py': 'a 1 d 20 u 5'}\n",
    "\n",
    "result=dict()\n",
    "for (key,val) in data.items():\n",
    "    s=0\n",
    "    lst=val.split(\" \")\n",
    "    for i in lst:\n",
    "        try:\n",
    "            s+=int(i)\n",
    "        except:\n",
    "            s+=0\n",
    "    result[key]=s\n",
    "print(result)"
   ]
  },
  {
   "cell_type": "markdown",
   "metadata": {},
   "source": [
    "#### 2.2 运行下面的代码，根据异常信息进行分析，定位出错误源头，并修复"
   ]
  },
  {
   "cell_type": "code",
   "execution_count": 6,
   "metadata": {},
   "outputs": [
    {
     "name": "stdout",
     "output_type": "stream",
     "text": [
      "100 + 200 + 345 = 645\n",
      "99 + 88 + 7.6 = 194.6\n"
     ]
    }
   ],
   "source": [
    "from functools import reduce\n",
    "\n",
    "def str2num(s):\n",
    "    try: result=int(s)\n",
    "    except: result=float(s)\n",
    "    return result\n",
    "\n",
    "def calc(exp):\n",
    "    ss = exp.split('+')\n",
    "    ns = map(str2num, ss)\n",
    "    return reduce(lambda acc, x: acc + x, ns)\n",
    "\n",
    "def main():\n",
    "    r = calc('100 + 200 + 345')\n",
    "    print('100 + 200 + 345 =', r)\n",
    "    r = calc('99 + 88 + 7.6')\n",
    "    print('99 + 88 + 7.6 =', r)\n",
    "\n",
    "main()"
   ]
  },
  {
   "cell_type": "code",
   "execution_count": null,
   "metadata": {},
   "outputs": [],
   "source": []
  }
 ],
 "metadata": {
  "kernelspec": {
   "display_name": "Python 3",
   "language": "python",
   "name": "python3"
  },
  "language_info": {
   "codemirror_mode": {
    "name": "ipython",
    "version": 3
   },
   "file_extension": ".py",
   "mimetype": "text/x-python",
   "name": "python",
   "nbconvert_exporter": "python",
   "pygments_lexer": "ipython3",
   "version": "3.8.5"
  }
 },
 "nbformat": 4,
 "nbformat_minor": 4
}
