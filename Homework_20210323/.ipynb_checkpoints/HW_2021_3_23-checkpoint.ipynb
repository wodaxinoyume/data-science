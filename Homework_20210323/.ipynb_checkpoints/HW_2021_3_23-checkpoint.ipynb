{
 "cells": [
  {
   "cell_type": "markdown",
   "metadata": {},
   "source": [
    "# Homework_2021_03_23\n",
    "截止日期：03.29 \n",
    "\n",
    "## 第一部分：XML解析 "
   ]
  },
  {
   "cell_type": "markdown",
   "metadata": {},
   "source": [
    "### 1.1 读取并解析tang300.xml文件，首先请按行打印出来文件的内容，10行即可。\n",
    "关于xml解析的相关代码，可以参看https://www.runoob.com/python/python-xml.html"
   ]
  },
  {
   "cell_type": "code",
   "execution_count": 14,
   "metadata": {
    "scrolled": false
   },
   "outputs": [
    {
     "name": "stdout",
     "output_type": "stream",
     "text": [
      "<?xml version=\"1.0\" encoding=\"UTF-8\"?>\n",
      "\n",
      "<dataroot xmlns:od=\"urn:schemas-microsoft-com:officedata\" generated=\"2021-03-21T09:57:18\">\n",
      "\n",
      "<作业用唐诗>\n",
      "\n",
      "<ID>1</ID>\n",
      "\n",
      "<Poem_id>4371</Poem_id>\n",
      "\n",
      "<line_number>-100</line_number>\n",
      "\n",
      "<contance>##餞唐永昌( 一作餞唐郎中洛陽令)</contance>\n",
      "\n",
      "</作业用唐诗>\n",
      "\n",
      "<作业用唐诗>\n",
      "\n",
      "<ID>2</ID>\n",
      "\n"
     ]
    }
   ],
   "source": [
    "open_file=open(\"tang300.xml\")\n",
    "for line in zip(open_file,range(10)):\n",
    "    print(line[0])"
   ]
  },
  {
   "cell_type": "markdown",
   "metadata": {},
   "source": [
    "### 1.2 各保存20首李白、杜甫、白居易、王維（維是繁体）的诗（题目以及内容）。要求为每首诗歌生成独立的数据对象，包括 标题、作者、诗内容（按行）的元组（tuple）"
   ]
  },
  {
   "cell_type": "code",
   "execution_count": 51,
   "metadata": {},
   "outputs": [],
   "source": [
    "import xml.dom.minidom\n",
    "import xml.sax\n",
    "'''\n",
    "使用minidom解析器打开 XML 文档，当然使用sax也行。或者也可以尝试自己写解析算法，比如正则表达式。\n",
    "不同的方法实现得好都有机会被作为作业样本并获得加分\n",
    "'''\n",
    "DOMTree = xml.dom.minidom.parse(\"tang300.xml\")\n",
    "collection = DOMTree.documentElement\n",
    " \n",
    "# 在集合中获取所有诗句\n",
    "poems = collection.getElementsByTagName(\"作业用唐诗\")\n",
    "## 请在这里打印出保存的任意一位诗人的诗的数据对象\n",
    "def xml2tuple(name,number):\n",
    "    num=0\n",
    "    ID_list=[]\n",
    "    for poem in poems:\n",
    "        content=poem.getElementsByTagName(\"contance\")[0]\n",
    "        if(content.childNodes[0].data==\"$$\"+name):\n",
    "            num+=1\n",
    "            ID=poem.getElementsByTagName(\"Poem_id\")[0]\n",
    "            ID_list.append(ID.childNodes[0].data)\n",
    "        if num>=number:\n",
    "            break\n",
    "    \n",
    "    \n",
    "    result_list=[]\n",
    "    for i in ID_list:\n",
    "        result=()\n",
    "        for poem in poems:\n",
    "            ID=poem.getElementsByTagName(\"Poem_id\")[0]\n",
    "            if ID.childNodes[0].data==i:\n",
    "                content=poem.getElementsByTagName(\"contance\")[0]\n",
    "                content=content.childNodes[0].data\n",
    "                content=content.strip('#')\n",
    "                content=content.strip('$')\n",
    "                result+=tuple([content])\n",
    "        result_list.append(result)\n",
    "    return result_list\n",
    "\n",
    "list1=xml2tuple(\"李白\",20)\n",
    "list2=xml2tuple(\"杜甫\",20)\n",
    "list3=xml2tuple(\"白居易\",20)\n",
    "list4=xml2tuple(\"王維\",20)\n",
    "result=list1+list2+list3+list4\n",
    "#print(result)"
   ]
  },
  {
   "cell_type": "markdown",
   "metadata": {},
   "source": [
    "### 1.3 实现search_poem函数，该函数打印你保存的指定作者的诗歌的标题，并返回一个list。"
   ]
  },
  {
   "cell_type": "code",
   "execution_count": 50,
   "metadata": {
    "scrolled": true
   },
   "outputs": [
    {
     "name": "stdout",
     "output_type": "stream",
     "text": [
      "登峴山亭寄晉陵張少府\n",
      "送朱大入秦\n",
      "結襪子\n",
      "玉階怨\n",
      "洛陽陌\n",
      "高句驪\n",
      "舍利弗\n",
      "靜夜思\n",
      "淥水曲\n",
      "估客行  一作樂\n",
      "峨眉山月歌\n",
      "東魯見狄博通\n",
      "贈華州王司士\n",
      "聞謝楊兒吟猛虎詞因此有贈\n",
      "巴陵贈賈舍人\n",
      "贈汪倫  白遊涇縣桃花潭. 村人汪倫常醞美酒以待白\n",
      "聞王昌齡左遷龍標遙有此寄\n",
      "題情深樹寄象公\n",
      "口號  一作口號留別金陵諸公\n",
      "別東林寺僧\n"
     ]
    },
    {
     "data": {
      "text/plain": [
       "['登峴山亭寄晉陵張少府',\n",
       " '送朱大入秦',\n",
       " '結襪子',\n",
       " '玉階怨',\n",
       " '洛陽陌',\n",
       " '高句驪',\n",
       " '舍利弗',\n",
       " '靜夜思',\n",
       " '淥水曲',\n",
       " '估客行  一作樂',\n",
       " '峨眉山月歌',\n",
       " '東魯見狄博通',\n",
       " '贈華州王司士',\n",
       " '聞謝楊兒吟猛虎詞因此有贈',\n",
       " '巴陵贈賈舍人',\n",
       " '贈汪倫  白遊涇縣桃花潭. 村人汪倫常醞美酒以待白',\n",
       " '聞王昌齡左遷龍標遙有此寄',\n",
       " '題情深樹寄象公',\n",
       " '口號  一作口號留別金陵諸公',\n",
       " '別東林寺僧']"
      ]
     },
     "execution_count": 50,
     "metadata": {},
     "output_type": "execute_result"
    }
   ],
   "source": [
    "def search_poem(author):\n",
    "    '''\n",
    "    可以通过循环或列表生成式实现\n",
    "    '''\n",
    "    title_list=[]\n",
    "    for poem in result:\n",
    "        if poem[1]==author:\n",
    "            title_list.append(poem[0])\n",
    "            print(poem[0])\n",
    "    return title_list\n",
    "search_poem(\"李白\")"
   ]
  },
  {
   "cell_type": "markdown",
   "metadata": {},
   "source": [
    "## 第二部分 发布者-订阅者模式\n",
    "\n",
    "实现 设计模式中的观察者模式，本部分将以第一部分中提取的诗歌信息作为主题。\n",
    "\n",
    "观察者模式也被称为发布-订阅（Publish/Subscribe）模式。当这个主题对象状态变化时，会通知所有观察者对象并作出相应处理逻辑。\n",
    "\n",
    "在本问题中，可以形象地理解成，Publisher为诗歌发布中心，Reader为订阅相应诗人的诗歌的人。需要实现订阅，退订，Publisher可以发布新增、删除诗歌的消息以及当前各位诗人的诗歌的总数。当Publisher发布消息时，它需要把需要推送给所有订阅的Reader。\n",
    "\n",
    "\n",
    "**Publisher（发布者）**\n",
    "\n",
    "    - 保存订阅的读者\n",
    "    - 记录四位诗人各自诗歌的总数\n",
    "    - 发布四位诗人新诗的消息，每次只需要发布一首\n",
    "    - 发布新消息时，发布给所有已订阅的读者   \n",
    "   只有一位发布者Publisher\n",
    "   \n",
    "**Reader（订阅者）**\n",
    "\n",
    "    - 订阅/取消订阅 发布者（注意同一个发布者不要重复订阅）\n",
    "    - 保存发布者发来的诗歌\n",
    "关于保存消息，读者分为**两种类型**：\n",
    "- Type1：保存所有消息，这意味着这类读者需要将四位诗人的诗歌分类。\n",
    "- Type2：只保存最新的消息（也就是说只需要保存一首诗）。 \n",
    "\n",
    "要求实例化三个Reader: Alice, Bob, Carol，其中Alice为Type1，Bob&Carol为Type2.\n",
    "\n",
    "要求Reader实现printStatistics方法来打印保存的诗歌。\n",
    "\n",
    "要求实现Publisher的__str__方法，输出自己现有的Reader和发出的诗歌数目。\n",
    "\n",
    "下面给出的代码作为参考，可以不按照下面的参考实现。\n",
    "\n",
    "#### 参考资料\n",
    "\n",
    "[1. Observer pattern Wiki](https://en.wikipedia.org/wiki/Observer_pattern)   \n",
    "[2. 设计模式之观察者模式（c++）](https://www.cnblogs.com/carsonzhu/p/5770253.html)"
   ]
  },
  {
   "cell_type": "markdown",
   "metadata": {},
   "source": [
    "### 2.1 完成上述Publisher & Reader的代码，先不需要考虑多进程"
   ]
  },
  {
   "cell_type": "code",
   "execution_count": 247,
   "metadata": {},
   "outputs": [],
   "source": [
    "class BasePublisher(object):\n",
    "    def __init__(self,name):\n",
    "        self.name=name\n",
    "        self.count=0\n",
    "        self.list=[]\n",
    "    \n",
    "    def subscribeReader(self, reader):\n",
    "        self.list.append(reader)\n",
    "\n",
    "    def unsubscribeReader(self, reader):\n",
    "        self.list.remove(reader)\n",
    "\n",
    "    def notifyReader(self,author, poem):\n",
    "        self.count+=1\n",
    "        for reader in self.list:\n",
    "            reader.receivePoem(self.name,poem,author)\n",
    "    \n",
    "    def __str__(self):\n",
    "        lst=[]\n",
    "        for i in self.list:\n",
    "            lst.append(i.name)\n",
    "        return \"Now publisher has readers:{}, publisher has published {} poems\".format(\",\".join(lst),self.count)\n",
    "\n",
    "class Publisher(BasePublisher):\n",
    "    def __init__(self,name):\n",
    "        BasePublisher.__init__(self,name)\n",
    "    \n",
    "    def notifyReader(self,author,poem):\n",
    "        BasePublisher.notifyReader(self,author, poem)"
   ]
  },
  {
   "cell_type": "code",
   "execution_count": 248,
   "metadata": {},
   "outputs": [],
   "source": [
    "import threading\n",
    "class BaseReader(object):\n",
    "\n",
    "    def __init__(self):\n",
    "        self.pub=dict()\n",
    "    \n",
    "    def subscribeToPublisher(self, publisher):\n",
    "        self.pub[publisher.name]=dict()\n",
    "        publisher.subscribeReader(self)\n",
    "    \n",
    "    def unsubscribeToPublisher(self, publisher):\n",
    "        self.pub.pop(publisher.name)\n",
    "        publisher.unsubscribeReader(self)\n",
    "    \n",
    "    def __str__(self):\n",
    "        lst=[]\n",
    "        for key,val in self.pub.items():\n",
    "            lst.append(key)\n",
    "        return \"subscribe to {}\".format(\",\".join(lst))\n",
    "    \n",
    "    def receivePoem(self, publisher, poem , author):\n",
    "        print('thread id :{}'.format(threading.current_thread().name)) #如果3.2你使用多线程的话请保留此句，\n",
    "                                                                       #如果使用多进程的话请类似地输出进程id\n",
    "    def printStatistics(self):\n",
    "        # 打印消息\n",
    "        pass\n",
    "        "
   ]
  },
  {
   "cell_type": "code",
   "execution_count": 249,
   "metadata": {},
   "outputs": [],
   "source": [
    "class ReaderType1(BaseReader):\n",
    "\n",
    "    def __init__(self, _name):\n",
    "        BaseReader.__init__(self)\n",
    "        self.name=_name\n",
    "        \n",
    "    def receivePoem(self, publisher, poem, author):\n",
    "        print('thread id :{}'.format(threading.current_thread().name))\n",
    "        dic=self.pub[publisher]\n",
    "        if author not in dic:\n",
    "            dic[author]=[poem]\n",
    "        elif dic[author].count(poem)==0:\n",
    "            dic[author].append(poem)\n",
    "        \n",
    "    def printStatistics(self):\n",
    "        for key,val in self.pub.items():\n",
    "            print(\"{}(Type1) received following from {}:\".format(self.name,key))\n",
    "            for key_1,val_1 in val.items():\n",
    "                for poem in val_1:\n",
    "                    print(poem)\n",
    "\n",
    "# 第二种读者\n",
    "class ReaderType2(BaseReader):\n",
    "\n",
    "    def __init__(self, _name):\n",
    "        BaseReader.__init__(self)\n",
    "        self.name=_name\n",
    "\n",
    "    def receivePoem(self, publisher, poem , author):\n",
    "        print('thread id :{}'.format(threading.current_thread().name))\n",
    "        self.pub.pop(publisher)\n",
    "        self.pub[publisher]=poem\n",
    "\n",
    "    def printStatistics(self):\n",
    "        for key,val in self.pub.items():\n",
    "            print(\"{}(Type2) received following from {}:\".format(self.name,key))\n",
    "            print(val)"
   ]
  },
  {
   "cell_type": "code",
   "execution_count": 250,
   "metadata": {},
   "outputs": [],
   "source": [
    "Publisher = Publisher(\"Publisher\")\n",
    "Alice=ReaderType1('Alice')\n",
    "Bob=ReaderType2('Bob')\n",
    "Carol=ReaderType2('Carol')"
   ]
  },
  {
   "cell_type": "code",
   "execution_count": 251,
   "metadata": {},
   "outputs": [
    {
     "name": "stdout",
     "output_type": "stream",
     "text": [
      "thread id :MainThread\n",
      "thread id :MainThread\n",
      "thread id :MainThread\n",
      "thread id :MainThread\n",
      "thread id :MainThread\n",
      "thread id :MainThread\n"
     ]
    }
   ],
   "source": [
    "Alice.subscribeToPublisher(Publisher)\n",
    "Bob.subscribeToPublisher(Publisher)\n",
    "## 请在这里利用Publisher任意发出几首诗来测试你的代码\n",
    "Publisher.notifyReader(result[0][1],result[0])\n",
    "Publisher.notifyReader(result[21][1],result[21])\n",
    "Publisher.notifyReader(result[43][1],result[43])"
   ]
  },
  {
   "cell_type": "code",
   "execution_count": 252,
   "metadata": {},
   "outputs": [
    {
     "name": "stdout",
     "output_type": "stream",
     "text": [
      "Alice(Type1) received following from Publisher:\n",
      "('登峴山亭寄晉陵張少府', '李白', '峴首風湍急', '雲帆若鳥飛', '憑軒試一問', '張翰欲來歸')\n",
      "('因崔五侍御寄高彭州  適', '杜甫', '百年已過半', '秋至轉饑寒', '為問彭州牧', '何時救急難')\n",
      "('村雪夜坐', '白居易', '南窗輩燈坐', '風霰暗紛紛', '寂寞深村夜', '殘雁雪中聞')\n",
      "Bob(Type2) received following from Publisher:\n",
      "('村雪夜坐', '白居易', '南窗輩燈坐', '風霰暗紛紛', '寂寞深村夜', '殘雁雪中聞')\n",
      "Now publisher has readers:Alice,Bob, publisher has published 3 poems\n"
     ]
    }
   ],
   "source": [
    "Alice.printStatistics()\n",
    "Bob.printStatistics()\n",
    "Carol.printStatistics()\n",
    "print(Publisher)"
   ]
  },
  {
   "cell_type": "code",
   "execution_count": 253,
   "metadata": {},
   "outputs": [
    {
     "name": "stdout",
     "output_type": "stream",
     "text": [
      "thread id :MainThread\n",
      "thread id :MainThread\n",
      "thread id :MainThread\n",
      "thread id :MainThread\n",
      "thread id :MainThread\n",
      "thread id :MainThread\n"
     ]
    }
   ],
   "source": [
    "Carol.subscribeToPublisher(Publisher)\n",
    "Bob.unsubscribeToPublisher(Publisher)\n",
    "##再任意发出几首诗进行测试\n",
    "Publisher.notifyReader(result[1][1],result[1])\n",
    "Publisher.notifyReader(result[22][1],result[22])\n",
    "Publisher.notifyReader(result[44][1],result[44])"
   ]
  },
  {
   "cell_type": "code",
   "execution_count": 254,
   "metadata": {},
   "outputs": [
    {
     "name": "stdout",
     "output_type": "stream",
     "text": [
      "Alice(Type1) received following from Publisher:\n",
      "('登峴山亭寄晉陵張少府', '李白', '峴首風湍急', '雲帆若鳥飛', '憑軒試一問', '張翰欲來歸')\n",
      "('送朱大入秦', '李白', '遊人武陵去', '寶劍直千金', '分手脫相贈', '平生一片心')\n",
      "('因崔五侍御寄高彭州  適', '杜甫', '百年已過半', '秋至轉饑寒', '為問彭州牧', '何時救急難')\n",
      "('李司馬橋了( 一作成) 承( 一本無承字) 高使君自成都回', '杜甫', '向來江上手紛紛', '三日成功事出群', '已傳童子騎青竹( 一作馬)', '總擬橋東待使君')\n",
      "('村雪夜坐', '白居易', '南窗輩燈坐', '風霰暗紛紛', '寂寞深村夜', '殘雁雪中聞')\n",
      "('友人夜訪', '白居易', '簷間( 一作前) 清風簟', '松下明月杯', '幽意正如此', '況乃故人來')\n",
      "Carol(Type2) received following from Publisher:\n",
      "('友人夜訪', '白居易', '簷間( 一作前) 清風簟', '松下明月杯', '幽意正如此', '況乃故人來')\n",
      "Now publisher has readers:Alice,Carol, publisher has published 6 poems\n"
     ]
    }
   ],
   "source": [
    "Alice.printStatistics()\n",
    "Bob.printStatistics()\n",
    "Carol.printStatistics()\n",
    "print(Publisher)"
   ]
  },
  {
   "cell_type": "markdown",
   "metadata": {},
   "source": [
    "### 2.2 修改Publisher部分代码，用多线程（或者多进程）的方式发送消息。本部分为选做部分。"
   ]
  },
  {
   "cell_type": "code",
   "execution_count": 255,
   "metadata": {},
   "outputs": [],
   "source": [
    "class MultiThreadPublisher(BasePublisher):\n",
    "    def __init__(self,name):\n",
    "        BasePublisher.__init__(self,name)\n",
    "        \n",
    "    \n",
    "    def notifyReader(self,author, poem):\n",
    "        self.count+=1\n",
    "        for reader in self.list:\n",
    "            t=threading.Thread(target=reader.receivePoem,args=(self.name,poem,author))\n",
    "            t.start()"
   ]
  },
  {
   "cell_type": "code",
   "execution_count": 256,
   "metadata": {},
   "outputs": [
    {
     "name": "stdout",
     "output_type": "stream",
     "text": [
      "subscribe to Publisher,MultiPublisher\n"
     ]
    }
   ],
   "source": [
    "MultiThreadPublisher = MultiThreadPublisher(\"MultiPublisher\")\n",
    "Alice.subscribeToPublisher(MultiThreadPublisher)\n",
    "Bob.subscribeToPublisher(MultiThreadPublisher)\n",
    "Carol.subscribeToPublisher(MultiThreadPublisher)\n",
    "print(Alice)"
   ]
  },
  {
   "cell_type": "code",
   "execution_count": 257,
   "metadata": {},
   "outputs": [
    {
     "name": "stdout",
     "output_type": "stream",
     "text": [
      "thread id :Thread-59\n",
      "thread id :Thread-60\n",
      "thread id :Thread-61\n",
      "thread id :Thread-62\n",
      "thread id :Thread-63\n",
      "thread id :Thread-64\n",
      "thread id :Thread-65\n",
      "thread id :Thread-66\n",
      "thread id :Thread-67\n",
      "thread id :Thread-68\n",
      "thread id :Thread-69\n",
      "thread id :Thread-70\n",
      "thread id :Thread-71\n",
      "thread id :Thread-72\n",
      "thread id :Thread-73\n",
      "thread id :Thread-74\n",
      "thread id :Thread-75\n",
      "thread id :Thread-76\n"
     ]
    }
   ],
   "source": [
    "##请发出几首诗测试\n",
    "MultiThreadPublisher.notifyReader(result[0][1],result[0])\n",
    "MultiThreadPublisher.notifyReader(result[21][1],result[21])\n",
    "MultiThreadPublisher.notifyReader(result[43][1],result[43])\n",
    "MultiThreadPublisher.notifyReader(result[1][1],result[1])\n",
    "MultiThreadPublisher.notifyReader(result[22][1],result[22])\n",
    "MultiThreadPublisher.notifyReader(result[44][1],result[44])"
   ]
  },
  {
   "cell_type": "code",
   "execution_count": 258,
   "metadata": {},
   "outputs": [
    {
     "name": "stdout",
     "output_type": "stream",
     "text": [
      "Alice(Type1) received following from Publisher:\n",
      "('登峴山亭寄晉陵張少府', '李白', '峴首風湍急', '雲帆若鳥飛', '憑軒試一問', '張翰欲來歸')\n",
      "('送朱大入秦', '李白', '遊人武陵去', '寶劍直千金', '分手脫相贈', '平生一片心')\n",
      "('因崔五侍御寄高彭州  適', '杜甫', '百年已過半', '秋至轉饑寒', '為問彭州牧', '何時救急難')\n",
      "('李司馬橋了( 一作成) 承( 一本無承字) 高使君自成都回', '杜甫', '向來江上手紛紛', '三日成功事出群', '已傳童子騎青竹( 一作馬)', '總擬橋東待使君')\n",
      "('村雪夜坐', '白居易', '南窗輩燈坐', '風霰暗紛紛', '寂寞深村夜', '殘雁雪中聞')\n",
      "('友人夜訪', '白居易', '簷間( 一作前) 清風簟', '松下明月杯', '幽意正如此', '況乃故人來')\n",
      "Alice(Type1) received following from MultiPublisher:\n",
      "('登峴山亭寄晉陵張少府', '李白', '峴首風湍急', '雲帆若鳥飛', '憑軒試一問', '張翰欲來歸')\n",
      "('送朱大入秦', '李白', '遊人武陵去', '寶劍直千金', '分手脫相贈', '平生一片心')\n",
      "('因崔五侍御寄高彭州  適', '杜甫', '百年已過半', '秋至轉饑寒', '為問彭州牧', '何時救急難')\n",
      "('李司馬橋了( 一作成) 承( 一本無承字) 高使君自成都回', '杜甫', '向來江上手紛紛', '三日成功事出群', '已傳童子騎青竹( 一作馬)', '總擬橋東待使君')\n",
      "('村雪夜坐', '白居易', '南窗輩燈坐', '風霰暗紛紛', '寂寞深村夜', '殘雁雪中聞')\n",
      "('友人夜訪', '白居易', '簷間( 一作前) 清風簟', '松下明月杯', '幽意正如此', '況乃故人來')\n",
      "Bob(Type2) received following from MultiPublisher:\n",
      "('友人夜訪', '白居易', '簷間( 一作前) 清風簟', '松下明月杯', '幽意正如此', '況乃故人來')\n",
      "Carol(Type2) received following from Publisher:\n",
      "('友人夜訪', '白居易', '簷間( 一作前) 清風簟', '松下明月杯', '幽意正如此', '況乃故人來')\n",
      "Carol(Type2) received following from MultiPublisher:\n",
      "('友人夜訪', '白居易', '簷間( 一作前) 清風簟', '松下明月杯', '幽意正如此', '況乃故人來')\n"
     ]
    }
   ],
   "source": [
    "Alice.printStatistics()\n",
    "Bob.printStatistics()\n",
    "Carol.printStatistics()"
   ]
  },
  {
   "cell_type": "code",
   "execution_count": null,
   "metadata": {},
   "outputs": [],
   "source": []
  },
  {
   "cell_type": "code",
   "execution_count": null,
   "metadata": {},
   "outputs": [],
   "source": []
  }
 ],
 "metadata": {
  "kernelspec": {
   "display_name": "Python 3",
   "language": "python",
   "name": "python3"
  },
  "language_info": {
   "codemirror_mode": {
    "name": "ipython",
    "version": 3
   },
   "file_extension": ".py",
   "mimetype": "text/x-python",
   "name": "python",
   "nbconvert_exporter": "python",
   "pygments_lexer": "ipython3",
   "version": "3.8.5"
  }
 },
 "nbformat": 4,
 "nbformat_minor": 2
}
