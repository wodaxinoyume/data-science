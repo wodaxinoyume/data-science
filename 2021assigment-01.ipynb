{
 "cells": [
  {
   "cell_type": "markdown",
   "metadata": {},
   "source": [
    "## Homework_2020_10_16\n",
    "\n",
    "### 第一部分：基础练习\n",
    "\n",
    "#### 1.1 基本数据类型，表达式，简单输入输出\n",
    "    输入三角形的三边长，计算三角形的面积。如果输入不合法，请输出'Whoops!'\n",
    "    例如：输入：2     输出：1.7320508075688772\n",
    "                2\n",
    "                2"
   ]
  },
  {
   "cell_type": "code",
   "execution_count": 1,
   "metadata": {},
   "outputs": [
    {
     "name": "stdout",
     "output_type": "stream",
     "text": [
      "2\n",
      "2\n",
      "2\n",
      "1.7320508075688772\n"
     ]
    }
   ],
   "source": [
    "#a, b, c是三角形的三条边长\n",
    "a = float(input())\n",
    "b = float(input())\n",
    "c = float(input())\n",
    "## 请补充判定三角形是否合法的条件\n",
    "if a+b<=c or a+c<=b or b+c<=a:\n",
    "    print(\"Whoops!\")\n",
    "else:\n",
    "    s=(a+b+c)/2\n",
    "    area=(s*(s-a)*(s-b)*(s-c))**0.5\n",
    "    print(area)"
   ]
  },
  {
   "cell_type": "markdown",
   "metadata": {},
   "source": [
    "#### 1.2 字符串基本操作\n",
    "    找出字符串中小写字母a第二次出现的位置\n",
    "    例如：输入：'An apple a day keeps the doctor away'\n",
    "          输出：9"
   ]
  },
  {
   "cell_type": "code",
   "execution_count": 3,
   "metadata": {},
   "outputs": [
    {
     "name": "stdout",
     "output_type": "stream",
     "text": [
      "9\n"
     ]
    }
   ],
   "source": [
    "s = 'An apple a day keeps the doctor away'\n",
    "##请补充完整代码\n",
    "first=s.find('a')\n",
    "second=s.find('a',first+1)\n",
    "print(second)"
   ]
  },
  {
   "cell_type": "markdown",
   "metadata": {},
   "source": [
    "#### 1.3 条件表达式、分支流程\n",
    "    输出和成绩对应的等级：85分以上为A，60-84为B，60以下为C\n",
    "    例如：输入：84    输出：B"
   ]
  },
  {
   "cell_type": "code",
   "execution_count": 5,
   "metadata": {},
   "outputs": [
    {
     "name": "stdout",
     "output_type": "stream",
     "text": [
      "85\n",
      "A\n"
     ]
    }
   ],
   "source": [
    "score = int(input())\n",
    "##请补充判定输出结果\n",
    "if score>=85:\n",
    "    print('A')\n",
    "elif score>=60:\n",
    "    print('B')\n",
    "else:\n",
    "    print(\"C\")"
   ]
  },
  {
   "cell_type": "markdown",
   "metadata": {},
   "source": [
    "#### 1.4 List、Tuple、Dict类型基本操作\n",
    "    新学期的选课抽签已经结束，可怜的小明只选上了这些课：['编译', '毛概', '操统']\n",
    "    （1）请在小明的课表中增加一门课程 'Python'，并删除课程 '毛概'\n",
    "    （2）这是小明想补选的通选课清单：{'A': ['音数'], 'C': ['三宝'], 'E': ['西音', '西美']}\n",
    "        请修改清单中不正确的通选课分类"
   ]
  },
  {
   "cell_type": "code",
   "execution_count": 2,
   "metadata": {},
   "outputs": [
    {
     "name": "stdout",
     "output_type": "stream",
     "text": [
      "['编译', '操统', 'Python']\n",
      "{'A': ['音数', '三宝'], 'E': ['西音', '西美', '音数'], 'D': ['西美']}\n"
     ]
    }
   ],
   "source": [
    "course = ['编译', '毛概', '操统']\n",
    "elective = {'A':['音数'], 'C':['三宝'], 'E':['西音','西美']}\n",
    "##请将代码补充完整\n",
    "course.append('Python')\n",
    "n=course.index('毛概')\n",
    "del course[n]\n",
    "print(course)\n",
    "\n",
    "elective['D']=['西美']\n",
    "elective['A'].append('三宝')\n",
    "elective.pop('C')\n",
    "elective['E'].append('音数')\n",
    "print(elective)"
   ]
  },
  {
   "cell_type": "markdown",
   "metadata": {},
   "source": [
    "### 第二部分：进阶练习\n",
    "\n",
    "#### 2.1 循环语句、表达式\n",
    "    计算数列前10项和\n",
    "$$ a_n=a_{n-1}+\\frac{1}{a_{n-1}}, a_1=1 $$"
   ]
  },
  {
   "cell_type": "code",
   "execution_count": 12,
   "metadata": {},
   "outputs": [
    {
     "name": "stdout",
     "output_type": "stream",
     "text": [
      "32.03687831484261\n"
     ]
    }
   ],
   "source": [
    "a = 1\n",
    "s = 0\n",
    "##请将代码补充完整\n",
    "for i in range(10):\n",
    "    s+=a\n",
    "    a=a+1/a\n",
    "print(s)"
   ]
  },
  {
   "cell_type": "markdown",
   "metadata": {},
   "source": [
    "#### 2.2 循环表达式与列表\n",
    "    找出列表中只出现过一次的数字，并保持原次序输出\n",
    "    例如： 输入：2,6,1,3,7,2,7    输出：6,1,3"
   ]
  },
  {
   "cell_type": "code",
   "execution_count": 17,
   "metadata": {},
   "outputs": [
    {
     "name": "stdout",
     "output_type": "stream",
     "text": [
      "6,1,3\n"
     ]
    }
   ],
   "source": [
    "s = '2,6,1,3,7,2,7'\n",
    "nums = s.split(',')\n",
    "##请将代码补充完整\n",
    "result=[]\n",
    "for i in nums:\n",
    "    if nums.count(i)==1:\n",
    "        result.append(i)\n",
    "print(\",\".join(result))"
   ]
  },
  {
   "cell_type": "markdown",
   "metadata": {},
   "source": [
    "#### 2.3 将以 ':' 和 '|' 为分隔符的字符串处理成 python 字典\n",
    "    例如： 输入：'k:1|k1:2|k2:3|k3:4'    输出：{'k': '1', 'k1': '2', 'k2': '3', 'k3': '4'}"
   ]
  },
  {
   "cell_type": "code",
   "execution_count": 21,
   "metadata": {},
   "outputs": [
    {
     "name": "stdout",
     "output_type": "stream",
     "text": [
      "{'k': '1', 'k1': '2', 'k2': '3', 'k3': '4'}\n"
     ]
    }
   ],
   "source": [
    "s = 'k:1|k1:2|k2:3|k3:4'\n",
    "result = dict()\n",
    "##请将代码补充完整\n",
    "a=s.split(\"|\")\n",
    "for i in a:\n",
    "    b=i.split(\":\")\n",
    "    result[b[0]]=b[1]\n",
    "print(result)"
   ]
  },
  {
   "cell_type": "markdown",
   "metadata": {},
   "source": [
    "#### 2.4. 猜数字游戏：系统得到一个随机目标数字，用户输入数字，输出提示大或者小，直到猜对\n",
    "    一次过程例如： \n",
    "    30\n",
    "    大了！\n",
    "    20\n",
    "    小了！\n",
    "    25\n",
    "    大了！\n",
    "    24\n",
    "    恭喜你猜对了！"
   ]
  },
  {
   "cell_type": "code",
   "execution_count": 35,
   "metadata": {},
   "outputs": [
    {
     "name": "stdout",
     "output_type": "stream",
     "text": [
      "12\n",
      "小了！\n",
      "50\n",
      "小了！\n",
      "70\n",
      "大了！\n",
      "60\n",
      "大了！\n",
      "55\n",
      "大了！\n",
      "53\n",
      "恭喜你猜对了！\n"
     ]
    }
   ],
   "source": [
    "##请将代码补充完整\n",
    "import random\n",
    "num=random.randint(0,100)\n",
    "while(1):\n",
    "    guess=int(input())\n",
    "    if guess>num:\n",
    "        print(\"大了！\")\n",
    "    elif guess<num:\n",
    "        print(\"小了！\")\n",
    "    else:\n",
    "        print(\"恭喜你猜对了！\")\n",
    "        break"
   ]
  },
  {
   "cell_type": "markdown",
   "metadata": {},
   "source": [
    "#### 2.5. 利用filter函数，找出1~100之间的所有素数"
   ]
  },
  {
   "cell_type": "code",
   "execution_count": 34,
   "metadata": {},
   "outputs": [
    {
     "name": "stdout",
     "output_type": "stream",
     "text": [
      "[2, 3, 5, 7, 11, 13, 17, 19, 23, 29, 31, 37, 41, 43, 47, 53, 59, 61, 67, 71, 73, 79, 83, 89, 97]\n"
     ]
    }
   ],
   "source": [
    "##请将代码补充完整\n",
    "def is_prime(x):\n",
    "    result=1\n",
    "    for i in range(2,x):\n",
    "        if x%i==0:\n",
    "            result=0\n",
    "    return result\n",
    "print(list(filter(is_prime,range(2,101))))"
   ]
  },
  {
   "cell_type": "markdown",
   "metadata": {},
   "source": [
    "#### 2.6. 英文词频统计\n",
    "    输入为以下一段英文，不区分大小写，不计标点符号。\n",
    "    'There is no doubt that happiness is the most precious thing in the world. Without it, life will be empty and meaningless. If you wish to know how to get happiness, you must pay attention to the following two points.'"
   ]
  },
  {
   "cell_type": "code",
   "execution_count": 5,
   "metadata": {},
   "outputs": [
    {
     "name": "stdout",
     "output_type": "stream",
     "text": [
      "{'there': 1, 'is': 2, 'no': 1, 'doubt': 1, 'that': 1, 'happiness': 2, 'the': 3, 'most': 1, 'precious': 1, 'thing': 1, 'in': 1, 'world': 1, 'without': 1, 'it': 1, 'life': 1, 'will': 1, 'be': 1, 'empty': 1, 'and': 1, 'meaningless': 1, 'if': 1, 'you': 2, 'wish': 1, 'to': 3, 'know': 1, 'how': 1, 'get': 1, 'must': 1, 'pay': 1, 'attention': 1, 'following': 1, 'two': 1, 'points': 1}\n"
     ]
    }
   ],
   "source": [
    "s = 'There is no doubt that happiness is the most precious thing in the world. Without it, life will be empty and meaningless. If you wish to know how to get happiness, you must pay attention to the following two points.'\n",
    "##请将代码补充完整\n",
    "result=dict()\n",
    "lst=s.split(\" \")\n",
    "for i in lst:\n",
    "    word=[]\n",
    "    for j in i:\n",
    "        if 'a'<=j<='z' or 'A'<=j<='Z':\n",
    "            j=j.lower()\n",
    "            word.append(j)\n",
    "    i=\"\".join(word)\n",
    "    if i not in result:\n",
    "        result[i]=1\n",
    "    else:\n",
    "        result[i]+=1\n",
    "print(result)"
   ]
  },
  {
   "cell_type": "code",
   "execution_count": null,
   "metadata": {},
   "outputs": [],
   "source": []
  }
 ],
 "metadata": {
  "kernelspec": {
   "display_name": "Python 3",
   "language": "python",
   "name": "python3"
  },
  "language_info": {
   "codemirror_mode": {
    "name": "ipython",
    "version": 3
   },
   "file_extension": ".py",
   "mimetype": "text/x-python",
   "name": "python",
   "nbconvert_exporter": "python",
   "pygments_lexer": "ipython3",
   "version": "3.8.5"
  }
 },
 "nbformat": 4,
 "nbformat_minor": 4
}
