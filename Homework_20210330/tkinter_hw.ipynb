{
 "cells": [
  {
   "cell_type": "markdown",
   "metadata": {},
   "source": [
    "# Tkinter Homework\n",
    "\n",
    "2021.3.30\n",
    "\n",
    "**本次作业在上次“发布者-订阅者”的基础上实现，要求以读者为用户设计一个订阅古诗的界面** \n",
    "  \n",
    "\n",
    "\n",
    "⭐ **publish_subscribe.ipynb**: 提供了Publisher类和Reader类，不需要修改 \n",
    "\n",
    "\n",
    "⭐ **GUI.ipynb**: 提供了主界面，需按要求补充完整（详见该文件的注释）\n",
    "\n",
    "\n",
    "⭐ **tkinter_hw.ipynb**: 需要运行的文件，启动发布者、读者界面，不需要修改。（由于发布者线程永不停止，建议每次运行后点击 Kernel --> Restart 重启） \n",
    "\n",
    "\n",
    "⭐ **ipynb_importer.py**: ipynb文件import包的辅助文件，不用管  \n",
    "\n",
    "\n",
    "⭐ **cat.ico**: 小图标，可以换成别的，记得改成.ico格式  \n",
    "\n",
    "\n",
    "⭐ **demo.mp4**: 需实现功能的demo，仅作参考\n"
   ]
  },
  {
   "cell_type": "code",
   "execution_count": 1,
   "metadata": {},
   "outputs": [
    {
     "name": "stdout",
     "output_type": "stream",
     "text": [
      "importing Jupyter notebook from publish_subscribe.ipynb\n",
      "importing Jupyter notebook from GUI.ipynb\n"
     ]
    }
   ],
   "source": [
    "import ipynb_importer \n",
    "from publish_subscribe import get_poems\n",
    "from publish_subscribe import Publisher, Reader\n",
    "from GUI import MainPanel\n",
    "\n",
    "from threading import Thread\n",
    "import time\n"
   ]
  },
  {
   "cell_type": "code",
   "execution_count": 2,
   "metadata": {},
   "outputs": [],
   "source": [
    "def publish_poems(publisher):    \n",
    "    INTERVAL = 2       # 发布者每隔INTERVAL发布一次消息\n",
    "    \n",
    "    idx = 0\n",
    "    while True:\n",
    "        for author, poems in poem_dist.items():\n",
    "            publisher.notifyReader(author, poem_dist[author][idx % len(poem_dist[author])])\n",
    "        idx += 1\n",
    "        time.sleep(INTERVAL)"
   ]
  },
  {
   "cell_type": "code",
   "execution_count": 3,
   "metadata": {},
   "outputs": [],
   "source": [
    "poem_dist = get_poems() \n",
    "publisher = Publisher(\"Publisher\")\n",
    "\n",
    "publisher_t = Thread(target=publish_poems, args=(publisher, ))\n",
    "publisher_t.start()     # 新建线程，启动发布者"
   ]
  },
  {
   "cell_type": "code",
   "execution_count": 4,
   "metadata": {},
   "outputs": [],
   "source": [
    "reader = Reader(\"Alice\")\n",
    "gui = MainPanel(reader, publisher)  \n",
    "gui.start()        # 启动读者面板"
   ]
  },
  {
   "cell_type": "code",
   "execution_count": null,
   "metadata": {},
   "outputs": [],
   "source": []
  }
 ],
 "metadata": {
  "kernelspec": {
   "display_name": "Python 3",
   "language": "python",
   "name": "python3"
  },
  "language_info": {
   "codemirror_mode": {
    "name": "ipython",
    "version": 3
   },
   "file_extension": ".py",
   "mimetype": "text/x-python",
   "name": "python",
   "nbconvert_exporter": "python",
   "pygments_lexer": "ipython3",
   "version": "3.8.5"
  },
  "latex_envs": {
   "LaTeX_envs_menu_present": true,
   "autoclose": false,
   "autocomplete": true,
   "bibliofile": "biblio.bib",
   "cite_by": "apalike",
   "current_citInitial": 1,
   "eqLabelWithNumbers": true,
   "eqNumInitial": 1,
   "hotkeys": {
    "equation": "Ctrl-E",
    "itemize": "Ctrl-I"
   },
   "labels_anchors": false,
   "latex_user_defs": false,
   "report_style_numbering": false,
   "user_envs_cfg": false
  }
 },
 "nbformat": 4,
 "nbformat_minor": 2
}
